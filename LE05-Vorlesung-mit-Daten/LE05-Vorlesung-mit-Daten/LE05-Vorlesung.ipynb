{
 "cells": [
  {
   "cell_type": "markdown",
   "metadata": {},
   "source": [
    "## Vorlesung LE05"
   ]
  },
  {
   "cell_type": "markdown",
   "metadata": {},
   "source": [
    "## Aufsetzen der Umgebung"
   ]
  },
  {
   "cell_type": "code",
   "execution_count": 64,
   "metadata": {
    "scrolled": true
   },
   "outputs": [],
   "source": [
    "import pandas as pd\n",
    "import numpy as np\n",
    "import matplotlib.pyplot as plt\n",
    "import seaborn as sns\n"
   ]
  },
  {
   "cell_type": "code",
   "execution_count": 66,
   "metadata": {},
   "outputs": [],
   "source": [
    "#print('numpy',np.__version__)"
   ]
  },
  {
   "cell_type": "code",
   "execution_count": 68,
   "metadata": {},
   "outputs": [],
   "source": [
    "#import matplotlib\n",
    "#print('matplotlib',matplotlib.__version__)"
   ]
  },
  {
   "cell_type": "code",
   "execution_count": 70,
   "metadata": {},
   "outputs": [],
   "source": [
    "from matplotlib.colors import ListedColormap\n",
    "\n",
    "def plot_decision_regions(X,y, classifier, resolution=0.02):\n",
    "    # Marker und Farben\n",
    "    markers = ('s', 'v', 'o', '𝝠', 'x')\n",
    "    colors = ('red', 'blue', 'lightgreen', 'gray', 'cyan')\n",
    "    cmap = ListedColormap(colors[:len(np.unique(y))])\n",
    "    \n",
    "    # Darstellung der Entscheidungsmatrix\n",
    "    ## Minima und Maxima des Plotranges entlang der zwei Dimensionen\n",
    "    x1_min, x1_max = X[:,0].min() -1, X[:,0].max() + 1\n",
    "    x2_min, x2_max = X[:,1].min() -1, X[:,1].max() + 1\n",
    "    \n",
    "    ## Punktraster über diesen Bereich mit definierter Auflösung legen \n",
    "    ## siehe auch https://stackoverflow.com/questions/36013063/what-is-the-purpose-of-meshgrid-in-python-numpy\n",
    "    xx1, xx2 = np.meshgrid(np.arange(x1_min, x1_max, resolution), np.arange(x2_min, x2_max, resolution))\n",
    "    \n",
    "    ## Klassifikation bestimmen\n",
    "    Z=classifier.predict(np.array([xx1.ravel(), xx2.ravel()]).T)\n",
    "    Z=Z.reshape(xx1.shape)\n",
    "    \n",
    "    ##Klassifikation zeichnen (alpha ist so etwas wie Sättigung der Farbe)\n",
    "    plt.contourf(xx1, xx2,Z,alpha=0.1, cmap=cmap)\n",
    "    plt.xlim(xx1.min(), xx1.max())\n",
    "    plt.ylim(xx2.min(), xx2.max())\n",
    "    \n",
    "    #Darstellen aller Datensätze\n",
    "    for idx, cl in enumerate(np.unique(y)):\n",
    "        plt.scatter(x=X[ y==cl, 0], y=X[ y==cl, 1], alpha=0.8, c=colors[idx], marker=markers[idx], label=cl, edgecolor='black')\n",
    "    "
   ]
  },
  {
   "cell_type": "markdown",
   "metadata": {},
   "source": [
    "### Übung 1"
   ]
  },
  {
   "cell_type": "markdown",
   "metadata": {},
   "source": [
    "**Den Malware-Datensatz laden**"
   ]
  },
  {
   "cell_type": "markdown",
   "metadata": {},
   "source": [
    "Lesen sie den Datensatz memproc.csv in einen Dataframe"
   ]
  },
  {
   "cell_type": "code",
   "execution_count": 75,
   "metadata": {},
   "outputs": [
    {
     "name": "stdout",
     "output_type": "stream",
     "text": [
      "           host      proc       mem     state\n",
      "0    crisnd6378 -1.735788 -0.722979    Normal\n",
      "1    crisnd5885 -0.568770 -1.934926    Normal\n",
      "2    crisnd4508 -1.102691 -2.629311    Normal\n",
      "3    crisnd6376 -2.010346 -1.778285    Normal\n",
      "4    crisnd1301 -0.683525 -0.396034    Normal\n",
      "5    crisnd7419  0.351669  3.218415  Infected\n",
      "6    crisnd0357 -1.057801 -2.199631    Normal\n",
      "7    crisnd2342  1.896578 -1.901249    Normal\n",
      "8    crisnd0241 -2.294327  0.354716    Normal\n",
      "9    crisnd9665 -2.156447  0.465791    Normal\n",
      "10   crisnd5669 -2.247110 -1.235257    Normal\n",
      "11   crisnd0426 -0.532614  0.631420    Normal\n",
      "12   crisnd7183  0.948436  0.049716    Normal\n",
      "13   crisnd2969 -1.873865 -1.038698    Normal\n",
      "14   crisnd0194 -0.802533 -1.308481    Normal\n",
      "15   crisnd9368 -1.290675 -0.437498    Normal\n",
      "16   crisnd7336  0.470141 -0.546420    Normal\n",
      "17   crisnd8975 -0.651143 -2.132100    Normal\n",
      "18   crisnd0062 -0.351499 -0.441091    Normal\n",
      "19   crisnd9002 -1.018804 -0.345687    Normal\n",
      "20   crisnd7611 -0.227872  0.965092  Infected\n",
      "21   crisnd4829 -0.397209 -1.606782    Normal\n",
      "22   crisnd8649 -0.126401 -0.252286    Normal\n",
      "23   crisnd2051  0.908639 -0.347788    Normal\n",
      "24   crisnd3136 -0.929653 -0.893374    Normal\n",
      "25   crisnd8444  0.540876 -1.648172    Normal\n",
      "26   crisnd6107 -0.068564 -1.495283    Normal\n",
      "27   crisnd2116  0.265255 -1.209587    Normal\n",
      "28   crisnd3937 -0.650280 -1.510971    Normal\n",
      "29   crisnd7775 -0.466349  2.177208  Infected\n",
      "30   crisnd8489 -0.395546 -0.826826    Normal\n",
      "31   crisnd5370  0.500086 -1.441025    Normal\n",
      "32   crisnd1136 -1.164850 -2.329004    Normal\n",
      "33   crisnd2153  0.042388  1.728351    Normal\n",
      "34   crisnd9923  0.603703  1.945140  Infected\n",
      "35   crisnd9186 -0.730458 -0.694973    Normal\n",
      "36   crisnd3298 -2.864950 -1.201873    Normal\n",
      "37   crisnd3448  1.414751  0.013456  Infected\n",
      "38   crisnd3618  1.494243  0.709503  Infected\n",
      "39   crisnd8819 -1.965807 -1.736402    Normal\n",
      "40   crisnd3002  1.201609 -1.563852    Normal\n",
      "41   crisnd0620 -0.251879 -3.593867    Normal\n",
      "42   crisnd6431 -0.692590 -0.320200    Normal\n",
      "43   crisnd0914 -2.814817 -0.961019    Normal\n",
      "44   crisnd4426  0.347058 -1.289570    Normal\n",
      "45   crisnd1158 -2.388052 -2.464279    Normal\n",
      "46   crisnd4738  1.774048  2.092381  Infected\n",
      "47   crisnd8861  1.306663  0.200182  Infected\n",
      "48   crisnd9596  0.491456 -2.398444    Normal\n",
      "49   crisnd9948 -1.552191 -1.721343    Normal\n",
      "50   crisnd2368 -0.221288 -0.405438    Normal\n",
      "51   crisnd0705 -0.624111  2.190320  Infected\n",
      "52   crisnd9507  1.326048  0.897395  Infected\n",
      "53   crisnd6907 -0.338572  0.967221  Infected\n",
      "54   crisnd9935 -2.250436 -0.992816    Normal\n",
      "55   crisnd0517 -1.977700 -0.931546    Normal\n",
      "56   crisnd3370 -0.425605 -2.035164    Normal\n",
      "57   crisnd1710 -0.987745 -1.874746    Normal\n",
      "58   crisnd2737  1.349884  1.935661  Infected\n",
      "59   crisnd8662  0.803202 -1.921180    Normal\n",
      "60   crisnd8340  0.953075  0.401402  Infected\n",
      "61   crisnd0744 -0.472933 -2.208114    Normal\n",
      "62   crisnd9451 -1.586381 -1.950388    Normal\n",
      "63   crisnd5413 -1.713160 -0.352467    Normal\n",
      "64   crisnd1530 -0.608850 -0.780077    Normal\n",
      "65   crisnd4449 -1.011584 -2.761568    Normal\n",
      "66   crisnd7058 -0.923860  0.522440    Normal\n",
      "67   crisnd9715 -2.564252 -2.059520    Normal\n",
      "68   crisnd2567  0.991984  1.025900  Infected\n",
      "69   crisnd3864  0.004242 -0.379937    Normal\n",
      "70   crisnd4020 -0.350570 -0.536793    Normal\n",
      "71   crisnd5642 -0.158207  2.278580  Infected\n",
      "72   crisnd1637 -0.403861 -0.669230    Normal\n",
      "73   crisnd0269 -0.374425 -0.748182    Normal\n",
      "74   crisnd0496  0.916502  0.025869    Normal\n",
      "75   crisnd8233 -3.104876 -0.621155    Normal\n",
      "76   crisnd2139 -1.645849 -1.589585    Normal\n",
      "77   crisnd9151 -0.879575 -0.111530    Normal\n",
      "78   crisnd1945  1.015913  1.066321  Infected\n",
      "79   crisnd9340 -0.448406  0.455226    Normal\n",
      "80   crisnd8705  1.497183  1.707379  Infected\n",
      "81   crisnd9674 -1.583618 -0.373268    Normal\n",
      "82   crisnd0203 -0.393869 -0.759711    Normal\n",
      "83   crisnd7824  0.029212 -0.408525  Infected\n",
      "84   crisnd1220 -0.163263  0.911558    Normal\n",
      "85   crisnd2183 -0.393958 -2.112186    Normal\n",
      "86   crisnd8195 -0.089497 -0.467040    Normal\n",
      "87   crisnd0576 -0.201884  0.981983  Infected\n",
      "88   crisnd7355 -0.148542 -1.953090    Normal\n",
      "89   crisnd1516  0.773366  0.945494    Normal\n",
      "90   crisnd4096 -0.722774 -0.075066    Normal\n",
      "91   crisnd0743  0.585734 -2.760394    Normal\n",
      "92   crisnd8209 -1.136593 -1.249946    Normal\n",
      "93   crisnd5961 -0.701950 -0.097416    Normal\n",
      "94   crisnd7817 -1.624605  0.294617    Normal\n",
      "95   crisnd7156  0.024387 -0.920675    Normal\n",
      "96   crisnd1503 -0.584189 -0.729604    Normal\n",
      "97   crisnd9429 -2.658942 -1.724393    Normal\n",
      "98   crisnd3975  1.529174  0.970402  Infected\n",
      "99   crisnd8305 -1.727624 -3.339821    Normal\n",
      "100  crisnd3961  0.527494  1.560632  Infected\n",
      "101  crisnd2187  0.955506  1.436065  Infected\n",
      "102  crisnd8383  0.384305 -1.112276    Normal\n",
      "103  crisnd1457 -0.437301  1.576959  Infected\n",
      "104  crisnd5392  2.292577  1.463595  Infected\n",
      "105  crisnd6090 -1.549798 -1.857515    Normal\n",
      "106  crisnd7018  0.035862 -1.282945    Normal\n",
      "107  crisnd8743  0.756393 -1.893337    Normal\n",
      "108  crisnd9102 -2.792298 -0.976466    Normal\n",
      "109  crisnd9040 -1.393155 -0.009813    Normal\n",
      "110  crisnd5175  0.175671 -0.830431    Normal\n",
      "111  crisnd7687  1.212914  0.221908  Infected\n",
      "112  crisnd7701  1.202028  0.917994  Infected\n",
      "113  crisnd6544 -1.404172  0.328421    Normal\n",
      "114  crisnd4985 -0.255908  0.260609    Normal\n",
      "115  crisnd2674 -1.023337 -0.293363    Normal\n",
      "116  crisnd7299 -0.435623 -0.008172    Normal\n",
      "117  crisnd5379 -1.994629 -0.071210    Normal\n",
      "118  crisnd8104 -2.921803 -1.155082    Normal\n",
      "119  crisnd3786 -1.220242 -0.584684    Normal\n",
      "120  crisnd2831 -2.379508 -1.210169    Normal\n",
      "121  crisnd2173  0.140137  2.298256  Infected\n",
      "122  crisnd9198  0.101343 -0.332670  Infected\n",
      "123  crisnd1201 -0.365504 -0.519118    Normal\n",
      "124  crisnd5814 -0.972984 -0.349390    Normal\n",
      "125  crisnd3181  0.053918 -1.119375    Normal\n",
      "126  crisnd2135 -0.425206 -0.851509    Normal\n",
      "127  crisnd4491  1.308203  2.569850  Infected\n",
      "128  crisnd4774 -0.654099  0.057587    Normal\n",
      "129  crisnd8006 -0.042742 -2.549035    Normal\n",
      "130  crisnd3879 -3.151675 -1.777018    Normal\n",
      "131  crisnd1364  1.305219 -0.716774    Normal\n",
      "132  crisnd2812 -0.456979 -0.434895    Normal\n",
      "133  crisnd6832 -0.536478 -0.846176    Normal\n",
      "134  crisnd3134 -2.458268 -1.917827    Normal\n",
      "135  crisnd9117 -0.048689  0.909132    Normal\n",
      "136  crisnd7987 -0.223083 -0.860282    Normal\n",
      "137  crisnd1693  2.384644  1.053699  Infected\n",
      "138  crisnd7378  0.991020  2.518787  Infected\n",
      "139  crisnd7025 -2.895339 -0.963982    Normal\n",
      "140  crisnd7671  2.018520  1.888480  Infected\n",
      "141  crisnd0881 -1.707179 -2.295690    Normal\n",
      "142  crisnd4871  2.051580  0.007193  Infected\n",
      "143  crisnd9658 -2.498293 -0.664682    Normal\n",
      "144  crisnd3537  0.854055  1.884946  Infected\n",
      "145  crisnd4976 -0.834298 -0.830149    Normal\n",
      "146  crisnd2175 -1.219105 -0.428240    Normal\n",
      "147  crisnd8663 -2.832291 -2.360047    Normal\n",
      "148  crisnd2242 -0.507614  0.875793    Normal\n",
      "149  crisnd5209 -0.021592 -0.706008    Normal\n",
      "150  crisnd6292 -1.337993 -1.200125    Normal\n",
      "151  crisnd4493 -1.676643  1.813910    Normal\n",
      "152  crisnd2808 -2.399033 -0.226382    Normal\n",
      "153  crisnd9221 -0.931005 -0.003822    Normal\n",
      "154  crisnd0979 -0.275110 -2.494849    Normal\n",
      "155  crisnd1677  1.362493  1.418522  Infected\n",
      "156  crisnd3800  0.670374  1.635202  Infected\n",
      "157  crisnd1072 -0.575974 -1.282984    Normal\n",
      "158  crisnd1335 -1.001165 -0.853574    Normal\n",
      "159  crisnd0874 -1.781326  0.444036    Normal\n",
      "160  crisnd1255  1.906338 -1.038401    Normal\n",
      "161  crisnd4099 -0.499469 -0.328688    Normal\n",
      "162  crisnd4175 -1.371585 -1.785961    Normal\n",
      "163  crisnd5797 -0.868905 -0.208144    Normal\n",
      "164  crisnd5436 -0.114116 -1.758043  Infected\n",
      "165  crisnd0698 -0.825797  0.453686    Normal\n",
      "166  crisnd2476 -0.135736  1.436308    Normal\n",
      "167  crisnd8668 -2.158198 -1.596991    Normal\n",
      "168  crisnd8314 -1.153671 -3.069153    Normal\n",
      "169  crisnd1814  2.007416 -0.601564  Infected\n",
      "170  crisnd1262 -0.322482 -0.569976    Normal\n",
      "171  crisnd4154 -0.295325  0.195858    Normal\n",
      "172  crisnd2556 -0.508676 -1.509090    Normal\n",
      "173  crisnd7606 -0.269611 -0.700383    Normal\n",
      "174  crisnd2485 -0.703566 -0.802375    Normal\n",
      "175  crisnd5284 -1.082686 -2.607552    Normal\n",
      "176  crisnd4262 -1.374604 -0.705112    Normal\n",
      "177  crisnd6260 -1.092681 -0.283539    Normal\n",
      "178  crisnd3041  0.199040 -1.841634    Normal\n",
      "179  crisnd9959  0.267240 -0.461053    Normal\n",
      "180  crisnd4908  1.667540 -0.906340  Infected\n",
      "181  crisnd5853 -1.438653 -0.043687    Normal\n",
      "182  crisnd6669  0.944003 -1.399310    Normal\n",
      "183  crisnd6827 -0.701091 -0.919277    Normal\n",
      "184  crisnd1782  0.721711 -0.929448  Infected\n",
      "185  crisnd0336 -0.929540 -0.213725    Normal\n",
      "186  crisnd5017 -0.915000  0.023049    Normal\n",
      "187  crisnd7055 -1.519754 -2.735674    Normal\n",
      "188  crisnd1035 -0.831548 -1.945557    Normal\n",
      "189  crisnd2312 -0.310349 -0.565440    Normal\n",
      "190  crisnd4528 -0.891375 -0.297115    Normal\n",
      "191  crisnd1664  2.653077  2.077163  Infected\n",
      "192  crisnd9076 -1.309366 -1.335611    Normal\n",
      "193  crisnd1950 -1.316272 -1.129297    Normal\n",
      "194  crisnd1002 -0.709283 -2.145937    Normal\n",
      "195  crisnd0548  0.734096  1.422292  Infected\n",
      "196  crisnd8256 -1.939244 -2.206365    Normal\n",
      "197  crisnd8738 -1.457856  0.047818    Normal\n",
      "198  crisnd5780 -1.058828 -2.274430    Normal\n",
      "199  crisnd0529 -2.490981  1.484893    Normal\n",
      "200  crisnd3421  0.126961  0.131468    Normal\n",
      "201  crisnd1001 -2.413785 -1.843171    Normal\n",
      "202  crisnd2406 -0.608830 -0.720515    Normal\n",
      "203  crisnd4008 -0.514329 -0.763498    Normal\n",
      "204  crisnd3374  1.372430  1.596476  Infected\n",
      "205  crisnd0950  1.436146 -0.547416  Infected\n",
      "206  crisnd5231  0.445198 -1.756296    Normal\n",
      "207  crisnd0518 -1.398397 -0.240479    Normal\n",
      "208  crisnd9585  0.039652 -2.545641    Normal\n",
      "209  crisnd9712 -0.925614  0.122243  Infected\n",
      "210  crisnd2049 -0.574691 -0.187242    Normal\n",
      "211  crisnd4379  0.567899  0.401117    Normal\n",
      "212  crisnd9604  0.800955  2.049366  Infected\n",
      "213  crisnd2871  0.353448 -0.605444    Normal\n",
      "214  crisnd8840 -1.900937 -1.646406    Normal\n",
      "215  crisnd6251 -1.037185 -1.118359    Normal\n",
      "216  crisnd4789 -1.037208 -0.804003    Normal\n",
      "217  crisnd2781 -0.066644 -0.851760    Normal\n",
      "218  crisnd7861 -2.676003 -1.160595    Normal\n",
      "219  crisnd9837 -1.837446 -2.291385    Normal\n",
      "220  crisnd9591 -0.288759 -1.869747    Normal\n",
      "221  crisnd5009 -0.044905  0.690291  Infected\n",
      "222  crisnd6781  0.886371  0.742699    Normal\n",
      "223  crisnd8829  0.712093 -1.376413    Normal\n",
      "224  crisnd2131 -0.919571 -0.934131    Normal\n",
      "225  crisnd4430  2.047922 -0.847964  Infected\n",
      "226  crisnd7311  0.841123 -0.701977    Normal\n",
      "227  crisnd5077  1.540943  0.042006    Normal\n",
      "228  crisnd0004 -0.957535 -3.178587    Normal\n",
      "229  crisnd4782  2.084723  1.469580  Infected\n",
      "230  crisnd6425  0.494831 -0.916103    Normal\n",
      "231  crisnd5270 -1.623852 -2.646423    Normal\n",
      "232  crisnd6690  0.067610 -1.243687    Normal\n",
      "233  crisnd9412 -1.087001 -1.476477    Normal\n",
      "234  crisnd4823 -1.184544  0.196275    Normal\n",
      "235  crisnd2559 -0.431816 -1.218377    Normal\n",
      "236  crisnd0422 -1.482451 -2.672422    Normal\n",
      "237  crisnd7909 -1.192083 -0.267742    Normal\n",
      "238  crisnd5980 -1.752484 -2.751079    Normal\n",
      "239  crisnd7760 -1.779685  0.330480    Normal\n",
      "240  crisnd7144 -1.427218 -0.017256    Normal\n",
      "241  crisnd6760  0.004100  0.598862    Normal\n",
      "242  crisnd5037  3.142826  0.329150  Infected\n",
      "243  crisnd5784  1.054215  0.711637  Infected\n",
      "244  crisnd8099  0.410152  2.400802  Infected\n",
      "245  crisnd7588 -0.075083 -0.571929    Normal\n",
      "246  crisnd4025  0.172419  0.808297  Infected\n"
     ]
    }
   ],
   "source": [
    "df1 = pd.read_csv(\"memproc.csv\")\n",
    "print(df1.to_string())"
   ]
  },
  {
   "cell_type": "markdown",
   "metadata": {},
   "source": [
    "Welche Eigenschaften hat der Datensatz, u.a. Größe, Merkmale, Label?"
   ]
  },
  {
   "cell_type": "code",
   "execution_count": 78,
   "metadata": {},
   "outputs": [
    {
     "name": "stdout",
     "output_type": "stream",
     "text": [
      "Größe des Datensatzes:  (247, 4)\n"
     ]
    }
   ],
   "source": [
    "print(\"Größe des Datensatzes: \", df1.shape)"
   ]
  },
  {
   "cell_type": "code",
   "execution_count": 80,
   "metadata": {},
   "outputs": [
    {
     "name": "stdout",
     "output_type": "stream",
     "text": [
      "Datenübersicht:\n",
      "<class 'pandas.core.frame.DataFrame'>\n",
      "RangeIndex: 247 entries, 0 to 246\n",
      "Data columns (total 4 columns):\n",
      " #   Column  Non-Null Count  Dtype  \n",
      "---  ------  --------------  -----  \n",
      " 0   host    247 non-null    object \n",
      " 1   proc    247 non-null    float64\n",
      " 2   mem     247 non-null    float64\n",
      " 3   state   247 non-null    object \n",
      "dtypes: float64(2), object(2)\n",
      "memory usage: 7.8+ KB\n",
      "None\n"
     ]
    }
   ],
   "source": [
    "print(\"Datenübersicht:\")\n",
    "print(df1.info())"
   ]
  },
  {
   "cell_type": "code",
   "execution_count": 82,
   "metadata": {},
   "outputs": [
    {
     "name": "stdout",
     "output_type": "stream",
     "text": [
      "Statistische Zusammenfassung:\n",
      "             proc         mem\n",
      "count  247.000000  247.000000\n",
      "mean    -0.428731   -0.518138\n",
      "std      1.228676    1.311917\n",
      "min     -3.151675   -3.593867\n",
      "25%     -1.205594   -1.420167\n",
      "50%     -0.448406   -0.621155\n",
      "75%      0.368877    0.241259\n",
      "max      3.142826    3.218415\n"
     ]
    }
   ],
   "source": [
    "print(\"Statistische Zusammenfassung:\")\n",
    "print(df1.describe())"
   ]
  },
  {
   "cell_type": "markdown",
   "metadata": {},
   "source": [
    "Wieviel Beobachtungen gibt es je Klasse? "
   ]
  },
  {
   "cell_type": "code",
   "execution_count": 85,
   "metadata": {},
   "outputs": [
    {
     "name": "stdout",
     "output_type": "stream",
     "text": [
      "state\n",
      "Normal      194\n",
      "Infected     53\n",
      "Name: count, dtype: int64\n"
     ]
    }
   ],
   "source": [
    "klasse_counts = df1['state'].value_counts()\n",
    "print(klasse_counts)"
   ]
  },
  {
   "cell_type": "markdown",
   "metadata": {},
   "source": [
    "Was muss möglicherweise getan werden, um die Daten für das maschinelle Lernen zu verwenden?"
   ]
  },
  {
   "cell_type": "code",
   "execution_count": 87,
   "metadata": {},
   "outputs": [
    {
     "name": "stdout",
     "output_type": "stream",
     "text": [
      "host     0\n",
      "proc     0\n",
      "mem      0\n",
      "state    0\n",
      "dtype: int64\n"
     ]
    }
   ],
   "source": [
    "print(df1.isnull().sum())\n",
    "df1 = df1.dropna()"
   ]
  },
  {
   "cell_type": "markdown",
   "metadata": {},
   "source": [
    "Zeichnen Sie die Daten so in ein Streudiagramm, dass die Klassen unterschieden werden können"
   ]
  },
  {
   "cell_type": "code",
   "execution_count": 56,
   "metadata": {},
   "outputs": [
    {
     "data": {
      "image/png": "[encoded data removed]",
      "text/plain": [
       "<Figure size 1000x600 with 1 Axes>"
      ]
     },
     "metadata": {},
     "output_type": "display_data"
    }
   ],
   "source": [
    "# Setzen des Seaborn-Stils für bessere Ästhetik\n",
    "sns.set(style=\"whitegrid\")\n",
    "\n",
    "# Erstellen des Streudiagramms\n",
    "plt.figure(figsize=(10, 6))\n",
    "scatter_plot = sns.scatterplot(\n",
    "    data=df1,\n",
    "    x='proc',\n",
    "    y='mem',\n",
    "    hue='state', #Teilt die Datenpunkte basierend auf den Werten in der State-Spalte           \n",
    "    palette={'Normal': 'blue', 'Infected': 'red'},\n",
    "    alpha=0.7,             # Transparenz der Punkte\n",
    "    edgecolor='k'          # Schwarzer Rand für bessere Sichtbarkeit\n",
    ")\n",
    "\n",
    "# Hinzufügen von Titeln und Labels\n",
    "plt.title('Streudiagramm von proc vs. mem mit Klassenunterscheidung', fontsize=16)\n",
    "plt.xlabel('Proc', fontsize=14)\n",
    "plt.ylabel('Mem', fontsize=14)\n",
    "\n",
    "# Anpassen der Legende\n",
    "plt.legend(title='Klasse', title_fontsize='13', fontsize='11')\n",
    "\n",
    "# Anzeigen des Diagramms\n",
    "plt.show()\n"
   ]
  },
  {
   "cell_type": "code",
   "execution_count": 62,
   "metadata": {},
   "outputs": [
    {
     "data": {
      "image/png": "[encoded data removed]",
      "text/plain": [
       "<Figure size 1000x600 with 1 Axes>"
      ]
     },
     "metadata": {},
     "output_type": "display_data"
    }
   ],
   "source": [
    "import pandas as pd\n",
    "import matplotlib.pyplot as plt\n",
    "\n",
    "# Erstellen des Streudiagramms mit Matplotlib\n",
    "plt.figure(figsize=(10, 6))\n",
    "\n",
    "# Filtern der Daten nach Klassen\n",
    "normal = df1[df1['state'] == 'Normal']\n",
    "infected = df1[df1['state'] == 'Infected']\n",
    "\n",
    "# Plotten der Normal-Klasse\n",
    "plt.scatter(normal['proc'], normal['mem'], \n",
    "            color='blue', label='Normal', alpha=0.7, edgecolors='k')\n",
    "\n",
    "# Plotten der Infected-Klasse\n",
    "plt.scatter(infected['proc'], infected['mem'], \n",
    "            color='red', label='Infected', alpha=0.7, edgecolors='k')\n",
    "\n",
    "# Hinzufügen von Titeln und Labels\n",
    "plt.title('Streudiagramm von proc vs. mem mit Klassenunterscheidung', fontsize=16)\n",
    "plt.xlabel('Proc', fontsize=14)\n",
    "plt.ylabel('Mem', fontsize=14)\n",
    "\n",
    "# Hinzufügen der Legende\n",
    "plt.legend(title='Klasse', fontsize='11', title_fontsize='13')\n",
    "\n",
    "# Anzeigen des Diagramms\n",
    "plt.grid(True)\n",
    "plt.show()\n"
   ]
  },
  {
   "cell_type": "markdown",
   "metadata": {},
   "source": [
    "#### Übung 1 Ende"
   ]
  },
  {
   "cell_type": "markdown",
   "metadata": {},
   "source": [
    "**Den Iris Datensatz aus scikit-learn laden**"
   ]
  },
  {
   "cell_type": "markdown",
   "metadata": {},
   "source": [
    "Scikit learn bringt den Iris Datensatz schon mit"
   ]
  },
  {
   "cell_type": "code",
   "execution_count": 11,
   "metadata": {},
   "outputs": [
    {
     "name": "stdout",
     "output_type": "stream",
     "text": [
      "Class labels: [0 1 2]\n"
     ]
    }
   ],
   "source": [
    "from sklearn import datasets\n",
    "import numpy as np\n",
    "\n",
    "iris = datasets.load_iris()\n",
    "X = iris.data[:, [2, 3]]\n",
    "y = iris.target\n",
    "\n",
    "print('Class labels:', np.unique(y))"
   ]
  },
  {
   "cell_type": "markdown",
   "metadata": {},
   "source": [
    "Die Blumennamen sind schon in numerische Labels umgesetzt!"
   ]
  },
  {
   "cell_type": "code",
   "execution_count": 13,
   "metadata": {},
   "outputs": [
    {
     "data": {
      "text/plain": [
       "<matplotlib.legend.Legend at 0x1b2fac21af0>"
      ]
     },
     "execution_count": 13,
     "metadata": {},
     "output_type": "execute_result"
    },
    {
     "data": {
      "image/png": "[encoded data removed]",
      "text/plain": [
       "<Figure size 640x480 with 1 Axes>"
      ]
     },
     "metadata": {},
     "output_type": "display_data"
    }
   ],
   "source": [
    "plt.scatter(X[:50,0], X[:50,1], label='Setosa')\n",
    "plt.scatter(X[50:100,0], X[50:100,1], label='Versicolor')\n",
    "plt.scatter(X[100:150,0], X[100:150,1], label='Virginica')\n",
    "plt.xlabel(\"Petal Länge in cm\") # x label \n",
    "plt.ylabel(\"Petal Weite in cm\") # y label\n",
    "plt.legend(loc='lower right')"
   ]
  },
  {
   "cell_type": "code",
   "execution_count": 15,
   "metadata": {},
   "outputs": [
    {
     "name": "stdout",
     "output_type": "stream",
     "text": [
      "Class labels: [1 2]\n"
     ]
    }
   ],
   "source": [
    "X_sm=X[50:150]\n",
    "y_sm=y[50:150]\n",
    "print('Class labels:', np.unique(y_sm))"
   ]
  },
  {
   "cell_type": "code",
   "execution_count": 17,
   "metadata": {},
   "outputs": [
    {
     "data": {
      "text/plain": [
       "<matplotlib.legend.Legend at 0x1b2fac22ea0>"
      ]
     },
     "execution_count": 17,
     "metadata": {},
     "output_type": "execute_result"
    },
    {
     "data": {
      "image/png": "[encoded data removed]",
      "text/plain": [
       "<Figure size 640x480 with 1 Axes>"
      ]
     },
     "metadata": {},
     "output_type": "display_data"
    }
   ],
   "source": [
    "plt.scatter(X_sm[:50,0], X_sm[:50,1], label='Versicolor')\n",
    "plt.scatter(X_sm[50:100,0], X_sm[50:100,1], label='Virginica')\n",
    "plt.xlabel(\"Petal Länge in cm\") # x label \n",
    "plt.ylabel(\"Petal Weite in cm\") # y label\n",
    "plt.legend(loc='lower right')"
   ]
  },
  {
   "cell_type": "markdown",
   "metadata": {},
   "source": [
    "**Aufsplitten der Iris-Daten in Train (70%) und Test (30%)**"
   ]
  },
  {
   "cell_type": "code",
   "execution_count": 19,
   "metadata": {},
   "outputs": [],
   "source": [
    "from sklearn.model_selection import train_test_split\n",
    "\n",
    "X_train, X_test, y_train, y_test = train_test_split(\n",
    "    X_sm, y_sm, test_size=0.3, random_state=1, stratify=y_sm)"
   ]
  },
  {
   "cell_type": "code",
   "execution_count": 21,
   "metadata": {},
   "outputs": [
    {
     "name": "stdout",
     "output_type": "stream",
     "text": [
      "Anzahl Labels  in y_sm: [ 0 50 50]\n",
      "Anzahl Labels in y_train: [ 0 35 35]\n",
      "Anzahl Labels in y_test: [ 0 15 15]\n"
     ]
    }
   ],
   "source": [
    "print('Anzahl Labels  in y_sm:', np.bincount(y_sm))\n",
    "print('Anzahl Labels in y_train:', np.bincount(y_train))\n",
    "print('Anzahl Labels in y_test:', np.bincount(y_test))"
   ]
  },
  {
   "cell_type": "markdown",
   "metadata": {},
   "source": [
    "**Iris mit scikit Standardscaler normieren**\n"
   ]
  },
  {
   "cell_type": "code",
   "execution_count": 23,
   "metadata": {},
   "outputs": [],
   "source": [
    "from sklearn.preprocessing import StandardScaler\n",
    "\n",
    "sc = StandardScaler()\n",
    "sc.fit(X_train)\n",
    "X_train_std = sc.transform(X_train)\n",
    "X_test_std = sc.transform(X_test)"
   ]
  },
  {
   "cell_type": "markdown",
   "metadata": {},
   "source": [
    "Einfaches lineares Modell (Perzeptron) aus trainieren"
   ]
  },
  {
   "cell_type": "code",
   "execution_count": 25,
   "metadata": {},
   "outputs": [
    {
     "data": {
      "text/html": [
       "<style>#sk-container-id-1 {\n",
       "  /* Definition of color scheme common for light and dark mode */\n",
       "  --sklearn-color-text: black;\n",
       "  --sklearn-color-line: gray;\n",
       "  /* Definition of color scheme for unfitted estimators */\n",
       "  --sklearn-color-unfitted-level-0: #fff5e6;\n",
       "  --sklearn-color-unfitted-level-1: #f6e4d2;\n",
       "  --sklearn-color-unfitted-level-2: #ffe0b3;\n",
       "  --sklearn-color-unfitted-level-3: chocolate;\n",
       "  /* Definition of color scheme for fitted estimators */\n",
       "  --sklearn-color-fitted-level-0: #f0f8ff;\n",
       "  --sklearn-color-fitted-level-1: #d4ebff;\n",
       "  --sklearn-color-fitted-level-2: #b3dbfd;\n",
       "  --sklearn-color-fitted-level-3: cornflowerblue;\n",
       "\n",
       "  /* Specific color for light theme */\n",
       "  --sklearn-color-text-on-default-background: var(--sg-text-color, var(--theme-code-foreground, var(--jp-content-font-color1, black)));\n",
       "  --sklearn-color-background: var(--sg-background-color, var(--theme-background, var(--jp-layout-color0, white)));\n",
       "  --sklearn-color-border-box: var(--sg-text-color, var(--theme-code-foreground, var(--jp-content-font-color1, black)));\n",
       "  --sklearn-color-icon: #696969;\n",
       "\n",
       "  @media (prefers-color-scheme: dark) {\n",
       "    /* Redefinition of color scheme for dark theme */\n",
       "    --sklearn-color-text-on-default-background: var(--sg-text-color, var(--theme-code-foreground, var(--jp-content-font-color1, white)));\n",
       "    --sklearn-color-background: var(--sg-background-color, var(--theme-background, var(--jp-layout-color0, #111)));\n",
       "    --sklearn-color-border-box: var(--sg-text-color, var(--theme-code-foreground, var(--jp-content-font-color1, white)));\n",
       "    --sklearn-color-icon: #878787;\n",
       "  }\n",
       "}\n",
       "\n",
       "#sk-container-id-1 {\n",
       "  color: var(--sklearn-color-text);\n",
       "}\n",
       "\n",
       "#sk-container-id-1 pre {\n",
       "  padding: 0;\n",
       "}\n",
       "\n",
       "#sk-container-id-1 input.sk-hidden--visually {\n",
       "  border: 0;\n",
       "  clip: rect(1px 1px 1px 1px);\n",
       "  clip: rect(1px, 1px, 1px, 1px);\n",
       "  height: 1px;\n",
       "  margin: -1px;\n",
       "  overflow: hidden;\n",
       "  padding: 0;\n",
       "  position: absolute;\n",
       "  width: 1px;\n",
       "}\n",
       "\n",
       "#sk-container-id-1 div.sk-dashed-wrapped {\n",
       "  border: 1px dashed var(--sklearn-color-line);\n",
       "  margin: 0 0.4em 0.5em 0.4em;\n",
       "  box-sizing: border-box;\n",
       "  padding-bottom: 0.4em;\n",
       "  background-color: var(--sklearn-color-background);\n",
       "}\n",
       "\n",
       "#sk-container-id-1 div.sk-container {\n",
       "  /* jupyter's `normalize.less` sets `[hidden] { display: none; }`\n",
       "     but bootstrap.min.css set `[hidden] { display: none !important; }`\n",
       "     so we also need the `!important` here to be able to override the\n",
       "     default hidden behavior on the sphinx rendered scikit-learn.org.\n",
       "     See: https://github.com/scikit-learn/scikit-learn/issues/21755 */\n",
       "  display: inline-block !important;\n",
       "  position: relative;\n",
       "}\n",
       "\n",
       "#sk-container-id-1 div.sk-text-repr-fallback {\n",
       "  display: none;\n",
       "}\n",
       "\n",
       "div.sk-parallel-item,\n",
       "div.sk-serial,\n",
       "div.sk-item {\n",
       "  /* draw centered vertical line to link estimators */\n",
       "  background-image: linear-gradient(var(--sklearn-color-text-on-default-background), var(--sklearn-color-text-on-default-background));\n",
       "  background-size: 2px 100%;\n",
       "  background-repeat: no-repeat;\n",
       "  background-position: center center;\n",
       "}\n",
       "\n",
       "/* Parallel-specific style estimator block */\n",
       "\n",
       "#sk-container-id-1 div.sk-parallel-item::after {\n",
       "  content: \"\";\n",
       "  width: 100%;\n",
       "  border-bottom: 2px solid var(--sklearn-color-text-on-default-background);\n",
       "  flex-grow: 1;\n",
       "}\n",
       "\n",
       "#sk-container-id-1 div.sk-parallel {\n",
       "  display: flex;\n",
       "  align-items: stretch;\n",
       "  justify-content: center;\n",
       "  background-color: var(--sklearn-color-background);\n",
       "  position: relative;\n",
       "}\n",
       "\n",
       "#sk-container-id-1 div.sk-parallel-item {\n",
       "  display: flex;\n",
       "  flex-direction: column;\n",
       "}\n",
       "\n",
       "#sk-container-id-1 div.sk-parallel-item:first-child::after {\n",
       "  align-self: flex-end;\n",
       "  width: 50%;\n",
       "}\n",
       "\n",
       "#sk-container-id-1 div.sk-parallel-item:last-child::after {\n",
       "  align-self: flex-start;\n",
       "  width: 50%;\n",
       "}\n",
       "\n",
       "#sk-container-id-1 div.sk-parallel-item:only-child::after {\n",
       "  width: 0;\n",
       "}\n",
       "\n",
       "/* Serial-specific style estimator block */\n",
       "\n",
       "#sk-container-id-1 div.sk-serial {\n",
       "  display: flex;\n",
       "  flex-direction: column;\n",
       "  align-items: center;\n",
       "  background-color: var(--sklearn-color-background);\n",
       "  padding-right: 1em;\n",
       "  padding-left: 1em;\n",
       "}\n",
       "\n",
       "\n",
       "/* Toggleable style: style used for estimator/Pipeline/ColumnTransformer box that is\n",
       "clickable and can be expanded/collapsed.\n",
       "- Pipeline and ColumnTransformer use this feature and define the default style\n",
       "- Estimators will overwrite some part of the style using the `sk-estimator` class\n",
       "*/\n",
       "\n",
       "/* Pipeline and ColumnTransformer style (default) */\n",
       "\n",
       "#sk-container-id-1 div.sk-toggleable {\n",
       "  /* Default theme specific background. It is overwritten whether we have a\n",
       "  specific estimator or a Pipeline/ColumnTransformer */\n",
       "  background-color: var(--sklearn-color-background);\n",
       "}\n",
       "\n",
       "/* Toggleable label */\n",
       "#sk-container-id-1 label.sk-toggleable__label {\n",
       "  cursor: pointer;\n",
       "  display: block;\n",
       "  width: 100%;\n",
       "  margin-bottom: 0;\n",
       "  padding: 0.5em;\n",
       "  box-sizing: border-box;\n",
       "  text-align: center;\n",
       "}\n",
       "\n",
       "#sk-container-id-1 label.sk-toggleable__label-arrow:before {\n",
       "  /* Arrow on the left of the label */\n",
       "  content: \"▸\";\n",
       "  float: left;\n",
       "  margin-right: 0.25em;\n",
       "  color: var(--sklearn-color-icon);\n",
       "}\n",
       "\n",
       "#sk-container-id-1 label.sk-toggleable__label-arrow:hover:before {\n",
       "  color: var(--sklearn-color-text);\n",
       "}\n",
       "\n",
       "/* Toggleable content - dropdown */\n",
       "\n",
       "#sk-container-id-1 div.sk-toggleable__content {\n",
       "  max-height: 0;\n",
       "  max-width: 0;\n",
       "  overflow: hidden;\n",
       "  text-align: left;\n",
       "  /* unfitted */\n",
       "  background-color: var(--sklearn-color-unfitted-level-0);\n",
       "}\n",
       "\n",
       "#sk-container-id-1 div.sk-toggleable__content.fitted {\n",
       "  /* fitted */\n",
       "  background-color: var(--sklearn-color-fitted-level-0);\n",
       "}\n",
       "\n",
       "#sk-container-id-1 div.sk-toggleable__content pre {\n",
       "  margin: 0.2em;\n",
       "  border-radius: 0.25em;\n",
       "  color: var(--sklearn-color-text);\n",
       "  /* unfitted */\n",
       "  background-color: var(--sklearn-color-unfitted-level-0);\n",
       "}\n",
       "\n",
       "#sk-container-id-1 div.sk-toggleable__content.fitted pre {\n",
       "  /* unfitted */\n",
       "  background-color: var(--sklearn-color-fitted-level-0);\n",
       "}\n",
       "\n",
       "#sk-container-id-1 input.sk-toggleable__control:checked~div.sk-toggleable__content {\n",
       "  /* Expand drop-down */\n",
       "  max-height: 200px;\n",
       "  max-width: 100%;\n",
       "  overflow: auto;\n",
       "}\n",
       "\n",
       "#sk-container-id-1 input.sk-toggleable__control:checked~label.sk-toggleable__label-arrow:before {\n",
       "  content: \"▾\";\n",
       "}\n",
       "\n",
       "/* Pipeline/ColumnTransformer-specific style */\n",
       "\n",
       "#sk-container-id-1 div.sk-label input.sk-toggleable__control:checked~label.sk-toggleable__label {\n",
       "  color: var(--sklearn-color-text);\n",
       "  background-color: var(--sklearn-color-unfitted-level-2);\n",
       "}\n",
       "\n",
       "#sk-container-id-1 div.sk-label.fitted input.sk-toggleable__control:checked~label.sk-toggleable__label {\n",
       "  background-color: var(--sklearn-color-fitted-level-2);\n",
       "}\n",
       "\n",
       "/* Estimator-specific style */\n",
       "\n",
       "/* Colorize estimator box */\n",
       "#sk-container-id-1 div.sk-estimator input.sk-toggleable__control:checked~label.sk-toggleable__label {\n",
       "  /* unfitted */\n",
       "  background-color: var(--sklearn-color-unfitted-level-2);\n",
       "}\n",
       "\n",
       "#sk-container-id-1 div.sk-estimator.fitted input.sk-toggleable__control:checked~label.sk-toggleable__label {\n",
       "  /* fitted */\n",
       "  background-color: var(--sklearn-color-fitted-level-2);\n",
       "}\n",
       "\n",
       "#sk-container-id-1 div.sk-label label.sk-toggleable__label,\n",
       "#sk-container-id-1 div.sk-label label {\n",
       "  /* The background is the default theme color */\n",
       "  color: var(--sklearn-color-text-on-default-background);\n",
       "}\n",
       "\n",
       "/* On hover, darken the color of the background */\n",
       "#sk-container-id-1 div.sk-label:hover label.sk-toggleable__label {\n",
       "  color: var(--sklearn-color-text);\n",
       "  background-color: var(--sklearn-color-unfitted-level-2);\n",
       "}\n",
       "\n",
       "/* Label box, darken color on hover, fitted */\n",
       "#sk-container-id-1 div.sk-label.fitted:hover label.sk-toggleable__label.fitted {\n",
       "  color: var(--sklearn-color-text);\n",
       "  background-color: var(--sklearn-color-fitted-level-2);\n",
       "}\n",
       "\n",
       "/* Estimator label */\n",
       "\n",
       "#sk-container-id-1 div.sk-label label {\n",
       "  font-family: monospace;\n",
       "  font-weight: bold;\n",
       "  display: inline-block;\n",
       "  line-height: 1.2em;\n",
       "}\n",
       "\n",
       "#sk-container-id-1 div.sk-label-container {\n",
       "  text-align: center;\n",
       "}\n",
       "\n",
       "/* Estimator-specific */\n",
       "#sk-container-id-1 div.sk-estimator {\n",
       "  font-family: monospace;\n",
       "  border: 1px dotted var(--sklearn-color-border-box);\n",
       "  border-radius: 0.25em;\n",
       "  box-sizing: border-box;\n",
       "  margin-bottom: 0.5em;\n",
       "  /* unfitted */\n",
       "  background-color: var(--sklearn-color-unfitted-level-0);\n",
       "}\n",
       "\n",
       "#sk-container-id-1 div.sk-estimator.fitted {\n",
       "  /* fitted */\n",
       "  background-color: var(--sklearn-color-fitted-level-0);\n",
       "}\n",
       "\n",
       "/* on hover */\n",
       "#sk-container-id-1 div.sk-estimator:hover {\n",
       "  /* unfitted */\n",
       "  background-color: var(--sklearn-color-unfitted-level-2);\n",
       "}\n",
       "\n",
       "#sk-container-id-1 div.sk-estimator.fitted:hover {\n",
       "  /* fitted */\n",
       "  background-color: var(--sklearn-color-fitted-level-2);\n",
       "}\n",
       "\n",
       "/* Specification for estimator info (e.g. \"i\" and \"?\") */\n",
       "\n",
       "/* Common style for \"i\" and \"?\" */\n",
       "\n",
       ".sk-estimator-doc-link,\n",
       "a:link.sk-estimator-doc-link,\n",
       "a:visited.sk-estimator-doc-link {\n",
       "  float: right;\n",
       "  font-size: smaller;\n",
       "  line-height: 1em;\n",
       "  font-family: monospace;\n",
       "  background-color: var(--sklearn-color-background);\n",
       "  border-radius: 1em;\n",
       "  height: 1em;\n",
       "  width: 1em;\n",
       "  text-decoration: none !important;\n",
       "  margin-left: 1ex;\n",
       "  /* unfitted */\n",
       "  border: var(--sklearn-color-unfitted-level-1) 1pt solid;\n",
       "  color: var(--sklearn-color-unfitted-level-1);\n",
       "}\n",
       "\n",
       ".sk-estimator-doc-link.fitted,\n",
       "a:link.sk-estimator-doc-link.fitted,\n",
       "a:visited.sk-estimator-doc-link.fitted {\n",
       "  /* fitted */\n",
       "  border: var(--sklearn-color-fitted-level-1) 1pt solid;\n",
       "  color: var(--sklearn-color-fitted-level-1);\n",
       "}\n",
       "\n",
       "/* On hover */\n",
       "div.sk-estimator:hover .sk-estimator-doc-link:hover,\n",
       ".sk-estimator-doc-link:hover,\n",
       "div.sk-label-container:hover .sk-estimator-doc-link:hover,\n",
       ".sk-estimator-doc-link:hover {\n",
       "  /* unfitted */\n",
       "  background-color: var(--sklearn-color-unfitted-level-3);\n",
       "  color: var(--sklearn-color-background);\n",
       "  text-decoration: none;\n",
       "}\n",
       "\n",
       "div.sk-estimator.fitted:hover .sk-estimator-doc-link.fitted:hover,\n",
       ".sk-estimator-doc-link.fitted:hover,\n",
       "div.sk-label-container:hover .sk-estimator-doc-link.fitted:hover,\n",
       ".sk-estimator-doc-link.fitted:hover {\n",
       "  /* fitted */\n",
       "  background-color: var(--sklearn-color-fitted-level-3);\n",
       "  color: var(--sklearn-color-background);\n",
       "  text-decoration: none;\n",
       "}\n",
       "\n",
       "/* Span, style for the box shown on hovering the info icon */\n",
       ".sk-estimator-doc-link span {\n",
       "  display: none;\n",
       "  z-index: 9999;\n",
       "  position: relative;\n",
       "  font-weight: normal;\n",
       "  right: .2ex;\n",
       "  padding: .5ex;\n",
       "  margin: .5ex;\n",
       "  width: min-content;\n",
       "  min-width: 20ex;\n",
       "  max-width: 50ex;\n",
       "  color: var(--sklearn-color-text);\n",
       "  box-shadow: 2pt 2pt 4pt #999;\n",
       "  /* unfitted */\n",
       "  background: var(--sklearn-color-unfitted-level-0);\n",
       "  border: .5pt solid var(--sklearn-color-unfitted-level-3);\n",
       "}\n",
       "\n",
       ".sk-estimator-doc-link.fitted span {\n",
       "  /* fitted */\n",
       "  background: var(--sklearn-color-fitted-level-0);\n",
       "  border: var(--sklearn-color-fitted-level-3);\n",
       "}\n",
       "\n",
       ".sk-estimator-doc-link:hover span {\n",
       "  display: block;\n",
       "}\n",
       "\n",
       "/* \"?\"-specific style due to the `<a>` HTML tag */\n",
       "\n",
       "#sk-container-id-1 a.estimator_doc_link {\n",
       "  float: right;\n",
       "  font-size: 1rem;\n",
       "  line-height: 1em;\n",
       "  font-family: monospace;\n",
       "  background-color: var(--sklearn-color-background);\n",
       "  border-radius: 1rem;\n",
       "  height: 1rem;\n",
       "  width: 1rem;\n",
       "  text-decoration: none;\n",
       "  /* unfitted */\n",
       "  color: var(--sklearn-color-unfitted-level-1);\n",
       "  border: var(--sklearn-color-unfitted-level-1) 1pt solid;\n",
       "}\n",
       "\n",
       "#sk-container-id-1 a.estimator_doc_link.fitted {\n",
       "  /* fitted */\n",
       "  border: var(--sklearn-color-fitted-level-1) 1pt solid;\n",
       "  color: var(--sklearn-color-fitted-level-1);\n",
       "}\n",
       "\n",
       "/* On hover */\n",
       "#sk-container-id-1 a.estimator_doc_link:hover {\n",
       "  /* unfitted */\n",
       "  background-color: var(--sklearn-color-unfitted-level-3);\n",
       "  color: var(--sklearn-color-background);\n",
       "  text-decoration: none;\n",
       "}\n",
       "\n",
       "#sk-container-id-1 a.estimator_doc_link.fitted:hover {\n",
       "  /* fitted */\n",
       "  background-color: var(--sklearn-color-fitted-level-3);\n",
       "}\n",
       "</style><div id=\"sk-container-id-1\" class=\"sk-top-container\"><div class=\"sk-text-repr-fallback\"><pre>Perceptron(eta0=0.1, random_state=1)</pre><b>In a Jupyter environment, please rerun this cell to show the HTML representation or trust the notebook. <br />On GitHub, the HTML representation is unable to render, please try loading this page with nbviewer.org.</b></div><div class=\"sk-container\" hidden><div class=\"sk-item\"><div class=\"sk-estimator fitted sk-toggleable\"><input class=\"sk-toggleable__control sk-hidden--visually\" id=\"sk-estimator-id-1\" type=\"checkbox\" checked><label for=\"sk-estimator-id-1\" class=\"sk-toggleable__label fitted sk-toggleable__label-arrow fitted\">&nbsp;&nbsp;Perceptron<a class=\"sk-estimator-doc-link fitted\" rel=\"noreferrer\" target=\"_blank\" href=\"https://scikit-learn.org/1.5/modules/generated/sklearn.linear_model.Perceptron.html\">?<span>Documentation for Perceptron</span></a><span class=\"sk-estimator-doc-link fitted\">i<span>Fitted</span></span></label><div class=\"sk-toggleable__content fitted\"><pre>Perceptron(eta0=0.1, random_state=1)</pre></div> </div></div></div></div>"
      ],
      "text/plain": [
       "Perceptron(eta0=0.1, random_state=1)"
      ]
     },
     "execution_count": 25,
     "metadata": {},
     "output_type": "execute_result"
    }
   ],
   "source": [
    "from sklearn.linear_model import Perceptron\n",
    "\n",
    "ppn = Perceptron(eta0=0.1, random_state=1)\n",
    "ppn.fit(X_train_std, y_train)"
   ]
  },
  {
   "cell_type": "code",
   "execution_count": 27,
   "metadata": {},
   "outputs": [
    {
     "name": "stdout",
     "output_type": "stream",
     "text": [
      "Falsch klassifiziert: 1\n"
     ]
    }
   ],
   "source": [
    "y_pred = ppn.predict(X_test_std)\n",
    "print('Falsch klassifiziert: %d' % (y_test != y_pred).sum())"
   ]
  },
  {
   "cell_type": "markdown",
   "metadata": {},
   "source": [
    "Konfusionsmatrix"
   ]
  },
  {
   "cell_type": "code",
   "execution_count": 35,
   "metadata": {},
   "outputs": [
    {
     "data": {
      "text/plain": [
       "array([[15,  0],\n",
       "       [ 1, 14]], dtype=int64)"
      ]
     },
     "execution_count": 35,
     "metadata": {},
     "output_type": "execute_result"
    }
   ],
   "source": [
    "from sklearn.metrics import confusion_matrix\n",
    "confusion_matrix(y_test,y_pred)\n"
   ]
  },
  {
   "cell_type": "markdown",
   "metadata": {},
   "source": [
    "Kann normiert werden (y_test, y_pred oder all)"
   ]
  },
  {
   "cell_type": "code",
   "execution_count": 37,
   "metadata": {},
   "outputs": [
    {
     "data": {
      "text/plain": [
       "array([[0.5       , 0.        ],\n",
       "       [0.03333333, 0.46666667]])"
      ]
     },
     "execution_count": 37,
     "metadata": {},
     "output_type": "execute_result"
    }
   ],
   "source": [
    "confusion_matrix(y_test,y_pred,normalize='all')\n"
   ]
  },
  {
   "cell_type": "code",
   "execution_count": null,
   "metadata": {},
   "outputs": [],
   "source": []
  },
  {
   "cell_type": "code",
   "execution_count": 41,
   "metadata": {},
   "outputs": [
    {
     "data": {
      "image/png": "[encoded data removed]",
      "text/plain": [
       "<Figure size 640x480 with 2 Axes>"
      ]
     },
     "metadata": {},
     "output_type": "display_data"
    }
   ],
   "source": [
    "from sklearn.metrics import ConfusionMatrixDisplay\n",
    "\n",
    "np.set_printoptions(precision=2)\n",
    "ConfusionMatrixDisplay.from_predictions(y_test, y_pred)\n",
    "plt.show()"
   ]
  },
  {
   "cell_type": "code",
   "execution_count": 61,
   "metadata": {},
   "outputs": [
    {
     "data": {
      "image/png": "[encoded data removed]",
      "text/plain": [
       "<Figure size 640x480 with 2 Axes>"
      ]
     },
     "metadata": {},
     "output_type": "display_data"
    }
   ],
   "source": [
    "from sklearn.metrics import ConfusionMatrixDisplay\n",
    "\n",
    "np.set_printoptions(precision=2)\n",
    "ConfusionMatrixDisplay.from_predictions(y_test, y_pred, normalize='all')\n",
    "plt.show()"
   ]
  },
  {
   "cell_type": "code",
   "execution_count": 29,
   "metadata": {},
   "outputs": [
    {
     "name": "stdout",
     "output_type": "stream",
     "text": [
      "Accuracy: 0.967\n"
     ]
    }
   ],
   "source": [
    "from sklearn.metrics import accuracy_score\n",
    "\n",
    "print('Accuracy: %.3f' % accuracy_score(y_test, y_pred))"
   ]
  },
  {
   "cell_type": "code",
   "execution_count": 31,
   "metadata": {},
   "outputs": [
    {
     "name": "stdout",
     "output_type": "stream",
     "text": [
      "Accuracy: 0.967\n"
     ]
    }
   ],
   "source": [
    "print('Accuracy: %.3f' % ppn.score(X_test_std, y_test))"
   ]
  },
  {
   "cell_type": "code",
   "execution_count": 33,
   "metadata": {},
   "outputs": [
    {
     "name": "stdout",
     "output_type": "stream",
     "text": [
      "              precision    recall  f1-score   support\n",
      "\n",
      "           1       0.94      1.00      0.97        15\n",
      "           2       1.00      0.93      0.97        15\n",
      "\n",
      "    accuracy                           0.97        30\n",
      "   macro avg       0.97      0.97      0.97        30\n",
      "weighted avg       0.97      0.97      0.97        30\n",
      "\n"
     ]
    }
   ],
   "source": [
    "from sklearn.metrics import classification_report\n",
    "print(classification_report(y_test,y_pred))\n"
   ]
  },
  {
   "cell_type": "markdown",
   "metadata": {},
   "source": [
    "ACHTUNG - neue Version im Vergleich zu oben, die die Testdaten mit zeichnet"
   ]
  },
  {
   "cell_type": "code",
   "execution_count": 43,
   "metadata": {},
   "outputs": [],
   "source": [
    "from matplotlib.colors import ListedColormap\n",
    "\n",
    "def plot_decision_regions(X,y, classifier, test_idx=None,resolution=0.02):\n",
    "    # Marker und Farben\n",
    "    markers = ('s', 'v', 'o', '𝝠', 'x')\n",
    "    colors = ('red', 'blue', 'lightgreen', 'gray', 'cyan')\n",
    "    cmap = ListedColormap(colors[:len(np.unique(y))])\n",
    "    \n",
    "    # Darstellung der Entscheidungsmatrix\n",
    "    ## Minima und Maxima des Plotranges entlang der zwei Dimensionen\n",
    "    x1_min, x1_max = X[:,0].min() -1, X[:,0].max() + 1\n",
    "    x2_min, x2_max = X[:,1].min() -1, X[:,1].max() + 1\n",
    "    \n",
    "    ## Punktraster über diesen Bereich mit definierter Auflösung legen \n",
    "    ## siehe auch https://stackoverflow.com/questions/36013063/what-is-the-purpose-of-meshgrid-in-python-numpy\n",
    "    xx1, xx2 = np.meshgrid(np.arange(x1_min, x1_max, resolution), np.arange(x2_min, x2_max, resolution))\n",
    "    \n",
    "    ## Klassifikation bestimmen\n",
    "    Z=classifier.predict(np.array([xx1.ravel(), xx2.ravel()]).T)\n",
    "    Z=Z.reshape(xx1.shape)\n",
    "    \n",
    "    ##Klassifikation zeichnen (alpha ist so etwas wie Sättigung der Farbe)\n",
    "    plt.contourf(xx1, xx2,Z,alpha=0.1, cmap=cmap)\n",
    "    plt.xlim(xx1.min(), xx1.max())\n",
    "    plt.ylim(xx2.min(), xx2.max())\n",
    "    \n",
    "    #Darstellen aller Datensätze\n",
    "    for idx, cl in enumerate(np.unique(y)):\n",
    "        plt.scatter(x=X[ y==cl, 0], y=X[ y==cl, 1], alpha=0.8, c=colors[idx], marker=markers[idx], label=cl, edgecolor='black')\n",
    "        \n",
    "    if test_idx:\n",
    "        # plot all examples\n",
    "        X_test, y_test = X[test_idx, :], y[test_idx]\n",
    "\n",
    "        plt.scatter(X_test[:, 0],\n",
    "                    X_test[:, 1],\n",
    "                    edgecolor='black',\n",
    "                    color='None',\n",
    "                    alpha=1.0,\n",
    "                    linewidth=1,\n",
    "                    marker='o',\n",
    "                    s=100, \n",
    "                    label='test set')\n",
    "    "
   ]
  },
  {
   "cell_type": "code",
   "execution_count": 45,
   "metadata": {},
   "outputs": [
    {
     "data": {
      "image/png": "[encoded data removed]",
      "text/plain": [
       "<Figure size 640x480 with 1 Axes>"
      ]
     },
     "metadata": {},
     "output_type": "display_data"
    }
   ],
   "source": [
    "X_combined_std = np.vstack((X_train_std, X_test_std))\n",
    "y_combined = np.hstack((y_train, y_test))\n",
    "\n",
    "plot_decision_regions(X=X_combined_std, y=y_combined,\n",
    "                      classifier=ppn, test_idx=range(70, 100))\n",
    "plt.xlabel('Petal Länge normiert')\n",
    "plt.ylabel('Petal Weite normiert')\n",
    "plt.legend(loc='upper left')\n",
    "\n",
    "plt.show()"
   ]
  },
  {
   "cell_type": "markdown",
   "metadata": {},
   "source": [
    "### Übung 2"
   ]
  },
  {
   "cell_type": "markdown",
   "metadata": {},
   "source": [
    "Schaffen Sie numpy arrays für die Merkmale und die Labels"
   ]
  },
  {
   "cell_type": "code",
   "execution_count": null,
   "metadata": {},
   "outputs": [],
   "source": [
    "\n"
   ]
  },
  {
   "cell_type": "markdown",
   "metadata": {},
   "source": [
    "Spelitten Sie die Daten in  in Train (70%) und Test (30%), Parameter randeom_state=1, stratify=y"
   ]
  },
  {
   "cell_type": "code",
   "execution_count": null,
   "metadata": {},
   "outputs": [],
   "source": []
  },
  {
   "cell_type": "raw",
   "metadata": {},
   "source": [
    "Trainieren Sie ein einfaches lineares Modell Klassifikationsmodell (Perzeptron) (eta=0,1, random_state=1)"
   ]
  },
  {
   "cell_type": "code",
   "execution_count": 190,
   "metadata": {},
   "outputs": [
    {
     "data": {
      "text/html": [
       "<style>#sk-container-id-3 {\n",
       "  /* Definition of color scheme common for light and dark mode */\n",
       "  --sklearn-color-text: black;\n",
       "  --sklearn-color-line: gray;\n",
       "  /* Definition of color scheme for unfitted estimators */\n",
       "  --sklearn-color-unfitted-level-0: #fff5e6;\n",
       "  --sklearn-color-unfitted-level-1: #f6e4d2;\n",
       "  --sklearn-color-unfitted-level-2: #ffe0b3;\n",
       "  --sklearn-color-unfitted-level-3: chocolate;\n",
       "  /* Definition of color scheme for fitted estimators */\n",
       "  --sklearn-color-fitted-level-0: #f0f8ff;\n",
       "  --sklearn-color-fitted-level-1: #d4ebff;\n",
       "  --sklearn-color-fitted-level-2: #b3dbfd;\n",
       "  --sklearn-color-fitted-level-3: cornflowerblue;\n",
       "\n",
       "  /* Specific color for light theme */\n",
       "  --sklearn-color-text-on-default-background: var(--sg-text-color, var(--theme-code-foreground, var(--jp-content-font-color1, black)));\n",
       "  --sklearn-color-background: var(--sg-background-color, var(--theme-background, var(--jp-layout-color0, white)));\n",
       "  --sklearn-color-border-box: var(--sg-text-color, var(--theme-code-foreground, var(--jp-content-font-color1, black)));\n",
       "  --sklearn-color-icon: #696969;\n",
       "\n",
       "  @media (prefers-color-scheme: dark) {\n",
       "    /* Redefinition of color scheme for dark theme */\n",
       "    --sklearn-color-text-on-default-background: var(--sg-text-color, var(--theme-code-foreground, var(--jp-content-font-color1, white)));\n",
       "    --sklearn-color-background: var(--sg-background-color, var(--theme-background, var(--jp-layout-color0, #111)));\n",
       "    --sklearn-color-border-box: var(--sg-text-color, var(--theme-code-foreground, var(--jp-content-font-color1, white)));\n",
       "    --sklearn-color-icon: #878787;\n",
       "  }\n",
       "}\n",
       "\n",
       "#sk-container-id-3 {\n",
       "  color: var(--sklearn-color-text);\n",
       "}\n",
       "\n",
       "#sk-container-id-3 pre {\n",
       "  padding: 0;\n",
       "}\n",
       "\n",
       "#sk-container-id-3 input.sk-hidden--visually {\n",
       "  border: 0;\n",
       "  clip: rect(1px 1px 1px 1px);\n",
       "  clip: rect(1px, 1px, 1px, 1px);\n",
       "  height: 1px;\n",
       "  margin: -1px;\n",
       "  overflow: hidden;\n",
       "  padding: 0;\n",
       "  position: absolute;\n",
       "  width: 1px;\n",
       "}\n",
       "\n",
       "#sk-container-id-3 div.sk-dashed-wrapped {\n",
       "  border: 1px dashed var(--sklearn-color-line);\n",
       "  margin: 0 0.4em 0.5em 0.4em;\n",
       "  box-sizing: border-box;\n",
       "  padding-bottom: 0.4em;\n",
       "  background-color: var(--sklearn-color-background);\n",
       "}\n",
       "\n",
       "#sk-container-id-3 div.sk-container {\n",
       "  /* jupyter's `normalize.less` sets `[hidden] { display: none; }`\n",
       "     but bootstrap.min.css set `[hidden] { display: none !important; }`\n",
       "     so we also need the `!important` here to be able to override the\n",
       "     default hidden behavior on the sphinx rendered scikit-learn.org.\n",
       "     See: https://github.com/scikit-learn/scikit-learn/issues/21755 */\n",
       "  display: inline-block !important;\n",
       "  position: relative;\n",
       "}\n",
       "\n",
       "#sk-container-id-3 div.sk-text-repr-fallback {\n",
       "  display: none;\n",
       "}\n",
       "\n",
       "div.sk-parallel-item,\n",
       "div.sk-serial,\n",
       "div.sk-item {\n",
       "  /* draw centered vertical line to link estimators */\n",
       "  background-image: linear-gradient(var(--sklearn-color-text-on-default-background), var(--sklearn-color-text-on-default-background));\n",
       "  background-size: 2px 100%;\n",
       "  background-repeat: no-repeat;\n",
       "  background-position: center center;\n",
       "}\n",
       "\n",
       "/* Parallel-specific style estimator block */\n",
       "\n",
       "#sk-container-id-3 div.sk-parallel-item::after {\n",
       "  content: \"\";\n",
       "  width: 100%;\n",
       "  border-bottom: 2px solid var(--sklearn-color-text-on-default-background);\n",
       "  flex-grow: 1;\n",
       "}\n",
       "\n",
       "#sk-container-id-3 div.sk-parallel {\n",
       "  display: flex;\n",
       "  align-items: stretch;\n",
       "  justify-content: center;\n",
       "  background-color: var(--sklearn-color-background);\n",
       "  position: relative;\n",
       "}\n",
       "\n",
       "#sk-container-id-3 div.sk-parallel-item {\n",
       "  display: flex;\n",
       "  flex-direction: column;\n",
       "}\n",
       "\n",
       "#sk-container-id-3 div.sk-parallel-item:first-child::after {\n",
       "  align-self: flex-end;\n",
       "  width: 50%;\n",
       "}\n",
       "\n",
       "#sk-container-id-3 div.sk-parallel-item:last-child::after {\n",
       "  align-self: flex-start;\n",
       "  width: 50%;\n",
       "}\n",
       "\n",
       "#sk-container-id-3 div.sk-parallel-item:only-child::after {\n",
       "  width: 0;\n",
       "}\n",
       "\n",
       "/* Serial-specific style estimator block */\n",
       "\n",
       "#sk-container-id-3 div.sk-serial {\n",
       "  display: flex;\n",
       "  flex-direction: column;\n",
       "  align-items: center;\n",
       "  background-color: var(--sklearn-color-background);\n",
       "  padding-right: 1em;\n",
       "  padding-left: 1em;\n",
       "}\n",
       "\n",
       "\n",
       "/* Toggleable style: style used for estimator/Pipeline/ColumnTransformer box that is\n",
       "clickable and can be expanded/collapsed.\n",
       "- Pipeline and ColumnTransformer use this feature and define the default style\n",
       "- Estimators will overwrite some part of the style using the `sk-estimator` class\n",
       "*/\n",
       "\n",
       "/* Pipeline and ColumnTransformer style (default) */\n",
       "\n",
       "#sk-container-id-3 div.sk-toggleable {\n",
       "  /* Default theme specific background. It is overwritten whether we have a\n",
       "  specific estimator or a Pipeline/ColumnTransformer */\n",
       "  background-color: var(--sklearn-color-background);\n",
       "}\n",
       "\n",
       "/* Toggleable label */\n",
       "#sk-container-id-3 label.sk-toggleable__label {\n",
       "  cursor: pointer;\n",
       "  display: block;\n",
       "  width: 100%;\n",
       "  margin-bottom: 0;\n",
       "  padding: 0.5em;\n",
       "  box-sizing: border-box;\n",
       "  text-align: center;\n",
       "}\n",
       "\n",
       "#sk-container-id-3 label.sk-toggleable__label-arrow:before {\n",
       "  /* Arrow on the left of the label */\n",
       "  content: \"▸\";\n",
       "  float: left;\n",
       "  margin-right: 0.25em;\n",
       "  color: var(--sklearn-color-icon);\n",
       "}\n",
       "\n",
       "#sk-container-id-3 label.sk-toggleable__label-arrow:hover:before {\n",
       "  color: var(--sklearn-color-text);\n",
       "}\n",
       "\n",
       "/* Toggleable content - dropdown */\n",
       "\n",
       "#sk-container-id-3 div.sk-toggleable__content {\n",
       "  max-height: 0;\n",
       "  max-width: 0;\n",
       "  overflow: hidden;\n",
       "  text-align: left;\n",
       "  /* unfitted */\n",
       "  background-color: var(--sklearn-color-unfitted-level-0);\n",
       "}\n",
       "\n",
       "#sk-container-id-3 div.sk-toggleable__content.fitted {\n",
       "  /* fitted */\n",
       "  background-color: var(--sklearn-color-fitted-level-0);\n",
       "}\n",
       "\n",
       "#sk-container-id-3 div.sk-toggleable__content pre {\n",
       "  margin: 0.2em;\n",
       "  border-radius: 0.25em;\n",
       "  color: var(--sklearn-color-text);\n",
       "  /* unfitted */\n",
       "  background-color: var(--sklearn-color-unfitted-level-0);\n",
       "}\n",
       "\n",
       "#sk-container-id-3 div.sk-toggleable__content.fitted pre {\n",
       "  /* unfitted */\n",
       "  background-color: var(--sklearn-color-fitted-level-0);\n",
       "}\n",
       "\n",
       "#sk-container-id-3 input.sk-toggleable__control:checked~div.sk-toggleable__content {\n",
       "  /* Expand drop-down */\n",
       "  max-height: 200px;\n",
       "  max-width: 100%;\n",
       "  overflow: auto;\n",
       "}\n",
       "\n",
       "#sk-container-id-3 input.sk-toggleable__control:checked~label.sk-toggleable__label-arrow:before {\n",
       "  content: \"▾\";\n",
       "}\n",
       "\n",
       "/* Pipeline/ColumnTransformer-specific style */\n",
       "\n",
       "#sk-container-id-3 div.sk-label input.sk-toggleable__control:checked~label.sk-toggleable__label {\n",
       "  color: var(--sklearn-color-text);\n",
       "  background-color: var(--sklearn-color-unfitted-level-2);\n",
       "}\n",
       "\n",
       "#sk-container-id-3 div.sk-label.fitted input.sk-toggleable__control:checked~label.sk-toggleable__label {\n",
       "  background-color: var(--sklearn-color-fitted-level-2);\n",
       "}\n",
       "\n",
       "/* Estimator-specific style */\n",
       "\n",
       "/* Colorize estimator box */\n",
       "#sk-container-id-3 div.sk-estimator input.sk-toggleable__control:checked~label.sk-toggleable__label {\n",
       "  /* unfitted */\n",
       "  background-color: var(--sklearn-color-unfitted-level-2);\n",
       "}\n",
       "\n",
       "#sk-container-id-3 div.sk-estimator.fitted input.sk-toggleable__control:checked~label.sk-toggleable__label {\n",
       "  /* fitted */\n",
       "  background-color: var(--sklearn-color-fitted-level-2);\n",
       "}\n",
       "\n",
       "#sk-container-id-3 div.sk-label label.sk-toggleable__label,\n",
       "#sk-container-id-3 div.sk-label label {\n",
       "  /* The background is the default theme color */\n",
       "  color: var(--sklearn-color-text-on-default-background);\n",
       "}\n",
       "\n",
       "/* On hover, darken the color of the background */\n",
       "#sk-container-id-3 div.sk-label:hover label.sk-toggleable__label {\n",
       "  color: var(--sklearn-color-text);\n",
       "  background-color: var(--sklearn-color-unfitted-level-2);\n",
       "}\n",
       "\n",
       "/* Label box, darken color on hover, fitted */\n",
       "#sk-container-id-3 div.sk-label.fitted:hover label.sk-toggleable__label.fitted {\n",
       "  color: var(--sklearn-color-text);\n",
       "  background-color: var(--sklearn-color-fitted-level-2);\n",
       "}\n",
       "\n",
       "/* Estimator label */\n",
       "\n",
       "#sk-container-id-3 div.sk-label label {\n",
       "  font-family: monospace;\n",
       "  font-weight: bold;\n",
       "  display: inline-block;\n",
       "  line-height: 1.2em;\n",
       "}\n",
       "\n",
       "#sk-container-id-3 div.sk-label-container {\n",
       "  text-align: center;\n",
       "}\n",
       "\n",
       "/* Estimator-specific */\n",
       "#sk-container-id-3 div.sk-estimator {\n",
       "  font-family: monospace;\n",
       "  border: 1px dotted var(--sklearn-color-border-box);\n",
       "  border-radius: 0.25em;\n",
       "  box-sizing: border-box;\n",
       "  margin-bottom: 0.5em;\n",
       "  /* unfitted */\n",
       "  background-color: var(--sklearn-color-unfitted-level-0);\n",
       "}\n",
       "\n",
       "#sk-container-id-3 div.sk-estimator.fitted {\n",
       "  /* fitted */\n",
       "  background-color: var(--sklearn-color-fitted-level-0);\n",
       "}\n",
       "\n",
       "/* on hover */\n",
       "#sk-container-id-3 div.sk-estimator:hover {\n",
       "  /* unfitted */\n",
       "  background-color: var(--sklearn-color-unfitted-level-2);\n",
       "}\n",
       "\n",
       "#sk-container-id-3 div.sk-estimator.fitted:hover {\n",
       "  /* fitted */\n",
       "  background-color: var(--sklearn-color-fitted-level-2);\n",
       "}\n",
       "\n",
       "/* Specification for estimator info (e.g. \"i\" and \"?\") */\n",
       "\n",
       "/* Common style for \"i\" and \"?\" */\n",
       "\n",
       ".sk-estimator-doc-link,\n",
       "a:link.sk-estimator-doc-link,\n",
       "a:visited.sk-estimator-doc-link {\n",
       "  float: right;\n",
       "  font-size: smaller;\n",
       "  line-height: 1em;\n",
       "  font-family: monospace;\n",
       "  background-color: var(--sklearn-color-background);\n",
       "  border-radius: 1em;\n",
       "  height: 1em;\n",
       "  width: 1em;\n",
       "  text-decoration: none !important;\n",
       "  margin-left: 1ex;\n",
       "  /* unfitted */\n",
       "  border: var(--sklearn-color-unfitted-level-1) 1pt solid;\n",
       "  color: var(--sklearn-color-unfitted-level-1);\n",
       "}\n",
       "\n",
       ".sk-estimator-doc-link.fitted,\n",
       "a:link.sk-estimator-doc-link.fitted,\n",
       "a:visited.sk-estimator-doc-link.fitted {\n",
       "  /* fitted */\n",
       "  border: var(--sklearn-color-fitted-level-1) 1pt solid;\n",
       "  color: var(--sklearn-color-fitted-level-1);\n",
       "}\n",
       "\n",
       "/* On hover */\n",
       "div.sk-estimator:hover .sk-estimator-doc-link:hover,\n",
       ".sk-estimator-doc-link:hover,\n",
       "div.sk-label-container:hover .sk-estimator-doc-link:hover,\n",
       ".sk-estimator-doc-link:hover {\n",
       "  /* unfitted */\n",
       "  background-color: var(--sklearn-color-unfitted-level-3);\n",
       "  color: var(--sklearn-color-background);\n",
       "  text-decoration: none;\n",
       "}\n",
       "\n",
       "div.sk-estimator.fitted:hover .sk-estimator-doc-link.fitted:hover,\n",
       ".sk-estimator-doc-link.fitted:hover,\n",
       "div.sk-label-container:hover .sk-estimator-doc-link.fitted:hover,\n",
       ".sk-estimator-doc-link.fitted:hover {\n",
       "  /* fitted */\n",
       "  background-color: var(--sklearn-color-fitted-level-3);\n",
       "  color: var(--sklearn-color-background);\n",
       "  text-decoration: none;\n",
       "}\n",
       "\n",
       "/* Span, style for the box shown on hovering the info icon */\n",
       ".sk-estimator-doc-link span {\n",
       "  display: none;\n",
       "  z-index: 9999;\n",
       "  position: relative;\n",
       "  font-weight: normal;\n",
       "  right: .2ex;\n",
       "  padding: .5ex;\n",
       "  margin: .5ex;\n",
       "  width: min-content;\n",
       "  min-width: 20ex;\n",
       "  max-width: 50ex;\n",
       "  color: var(--sklearn-color-text);\n",
       "  box-shadow: 2pt 2pt 4pt #999;\n",
       "  /* unfitted */\n",
       "  background: var(--sklearn-color-unfitted-level-0);\n",
       "  border: .5pt solid var(--sklearn-color-unfitted-level-3);\n",
       "}\n",
       "\n",
       ".sk-estimator-doc-link.fitted span {\n",
       "  /* fitted */\n",
       "  background: var(--sklearn-color-fitted-level-0);\n",
       "  border: var(--sklearn-color-fitted-level-3);\n",
       "}\n",
       "\n",
       ".sk-estimator-doc-link:hover span {\n",
       "  display: block;\n",
       "}\n",
       "\n",
       "/* \"?\"-specific style due to the `<a>` HTML tag */\n",
       "\n",
       "#sk-container-id-3 a.estimator_doc_link {\n",
       "  float: right;\n",
       "  font-size: 1rem;\n",
       "  line-height: 1em;\n",
       "  font-family: monospace;\n",
       "  background-color: var(--sklearn-color-background);\n",
       "  border-radius: 1rem;\n",
       "  height: 1rem;\n",
       "  width: 1rem;\n",
       "  text-decoration: none;\n",
       "  /* unfitted */\n",
       "  color: var(--sklearn-color-unfitted-level-1);\n",
       "  border: var(--sklearn-color-unfitted-level-1) 1pt solid;\n",
       "}\n",
       "\n",
       "#sk-container-id-3 a.estimator_doc_link.fitted {\n",
       "  /* fitted */\n",
       "  border: var(--sklearn-color-fitted-level-1) 1pt solid;\n",
       "  color: var(--sklearn-color-fitted-level-1);\n",
       "}\n",
       "\n",
       "/* On hover */\n",
       "#sk-container-id-3 a.estimator_doc_link:hover {\n",
       "  /* unfitted */\n",
       "  background-color: var(--sklearn-color-unfitted-level-3);\n",
       "  color: var(--sklearn-color-background);\n",
       "  text-decoration: none;\n",
       "}\n",
       "\n",
       "#sk-container-id-3 a.estimator_doc_link.fitted:hover {\n",
       "  /* fitted */\n",
       "  background-color: var(--sklearn-color-fitted-level-3);\n",
       "}\n",
       "</style><div id=\"sk-container-id-3\" class=\"sk-top-container\"><div class=\"sk-text-repr-fallback\"><pre>Perceptron(eta0=0.1, random_state=1)</pre><b>In a Jupyter environment, please rerun this cell to show the HTML representation or trust the notebook. <br />On GitHub, the HTML representation is unable to render, please try loading this page with nbviewer.org.</b></div><div class=\"sk-container\" hidden><div class=\"sk-item\"><div class=\"sk-estimator fitted sk-toggleable\"><input class=\"sk-toggleable__control sk-hidden--visually\" id=\"sk-estimator-id-3\" type=\"checkbox\" checked><label for=\"sk-estimator-id-3\" class=\"sk-toggleable__label fitted sk-toggleable__label-arrow fitted\">&nbsp;&nbsp;Perceptron<a class=\"sk-estimator-doc-link fitted\" rel=\"noreferrer\" target=\"_blank\" href=\"https://scikit-learn.org/1.5/modules/generated/sklearn.linear_model.Perceptron.html\">?<span>Documentation for Perceptron</span></a><span class=\"sk-estimator-doc-link fitted\">i<span>Fitted</span></span></label><div class=\"sk-toggleable__content fitted\"><pre>Perceptron(eta0=0.1, random_state=1)</pre></div> </div></div></div></div>"
      ],
      "text/plain": [
       "Perceptron(eta0=0.1, random_state=1)"
      ]
     },
     "execution_count": 190,
     "metadata": {},
     "output_type": "execute_result"
    }
   ],
   "source": [
    "from sklearn.linear_model import Perceptron\n",
    "\n",
    "ppn2 = Perceptron(eta0=0.1, random_state=1)\n",
    "ppn2.fit(X_train, y_train)"
   ]
  },
  {
   "cell_type": "markdown",
   "metadata": {},
   "source": [
    "Stellen Sie fest, weiviel Beobachungen falsch klassifiziert und stellen Sie eine Konfusionsmatrix auf; was fällt Ihnen dabei auf?"
   ]
  },
  {
   "cell_type": "code",
   "execution_count": 212,
   "metadata": {},
   "outputs": [],
   "source": [
    "from matplotlib.colors import ListedColormap\n",
    "\n",
    "def plot_decision_regions(X,y, classifier, test_idx=None,resolution=0.02):\n",
    "    # Marker und Farben\n",
    "    markers = ('s', 'v', 'o', '𝝠', 'x')\n",
    "    colors = ('red', 'blue', 'lightgreen', 'gray', 'cyan')\n",
    "    cmap = ListedColormap(colors[:len(np.unique(y))])\n",
    "    \n",
    "    # Darstellung der Entscheidungsmatrix\n",
    "    ## Minima und Maxima des Plotranges entlang der zwei Dimensionen\n",
    "    x1_min, x1_max = X[:,0].min() -1, X[:,0].max() + 1\n",
    "    x2_min, x2_max = X[:,1].min() -1, X[:,1].max() + 1\n",
    "    \n",
    "    ## Punktraster über diesen Bereich mit definierter Auflösung legen \n",
    "    ## siehe auch https://stackoverflow.com/questions/36013063/what-is-the-purpose-of-meshgrid-in-python-numpy\n",
    "    xx1, xx2 = np.meshgrid(np.arange(x1_min, x1_max, resolution), np.arange(x2_min, x2_max, resolution))\n",
    "    \n",
    "    ## Klassifikation bestimmen\n",
    "    Z=classifier.predict(np.array([xx1.ravel(), xx2.ravel()]).T)\n",
    "    Z=Z.reshape(xx1.shape)\n",
    "    \n",
    "    ##Klassifikation zeichnen (alpha ist so etwas wie Sättigung der Farbe)\n",
    "    plt.contourf(xx1, xx2,Z,alpha=0.1, cmap=cmap)\n",
    "    plt.xlim(xx1.min(), xx1.max())\n",
    "    plt.ylim(xx2.min(), xx2.max())\n",
    "    \n",
    "    #Darstellen aller Datensätze\n",
    "    for idx, cl in enumerate(np.unique(y)):\n",
    "        plt.scatter(x=X[ y==cl, 0], y=X[ y==cl, 1], alpha=0.8, c=colors[idx], marker=markers[idx], label=cl, edgecolor='black')\n",
    "        \n",
    "    if test_idx:\n",
    "        # plot all examples\n",
    "        X_test, y_test = X[test_idx, :], y[test_idx]\n",
    "\n",
    "        plt.scatter(X_test[:, 0],\n",
    "                    X_test[:, 1],\n",
    "                    edgecolor='black',\n",
    "                    color='None',\n",
    "                    alpha=1.0,\n",
    "                    linewidth=1,\n",
    "                    marker='o',\n",
    "                    s=100, \n",
    "                    label='test set')\n",
    "    "
   ]
  },
  {
   "cell_type": "markdown",
   "metadata": {},
   "source": [
    "Zeichnen Sie die Dafen mit der Funktion plot_decision_regions, so dass die Lage der Testdaent zu erkennen ist"
   ]
  },
  {
   "cell_type": "code",
   "execution_count": null,
   "metadata": {},
   "outputs": [],
   "source": []
  }
 ],
 "metadata": {
  "kernelspec": {
   "display_name": "Python 3 (ipykernel)",
   "language": "python",
   "name": "python3"
  },
  "language_info": {
   "codemirror_mode": {
    "name": "ipython",
    "version": 3
   },
   "file_extension": ".py",
   "mimetype": "text/x-python",
   "name": "python",
   "nbconvert_exporter": "python",
   "pygments_lexer": "ipython3",
   "version": "3.12.4"
  }
 },
 "nbformat": 4,
 "nbformat_minor": 4
}
